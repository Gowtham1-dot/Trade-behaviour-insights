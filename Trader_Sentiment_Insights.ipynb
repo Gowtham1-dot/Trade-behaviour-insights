{
 "cells": [
  {
   "cell_type": "markdown",
   "id": "f89eee8b",
   "metadata": {},
   "source": [
    "# 📊 Trader Behavior vs Bitcoin Market Sentiment"
   ]
  },
  {
   "cell_type": "markdown",
   "id": "f73e6b55",
   "metadata": {},
   "source": [
    "\n",
    "This notebook analyzes the relationship between **Hyperliquid trader performance** and the **Bitcoin Fear & Greed Index**, using historical trading data and sentiment classification.\n"
   ]
  },
  {
   "cell_type": "code",
   "execution_count": null,
   "id": "9956d04c",
   "metadata": {},
   "outputs": [],
   "source": [
    "\n",
    "import pandas as pd\n",
    "import matplotlib.pyplot as plt\n",
    "import seaborn as sns\n",
    "\n",
    "sns.set(style=\"whitegrid\")\n",
    "\n",
    "# Load data\n",
    "historical_df = pd.read_csv(\"historical_data.csv\")\n",
    "fear_greed_df = pd.read_csv(\"fear_greed_index.csv\")\n",
    "\n",
    "# Convert timestamps\n",
    "historical_df['date'] = pd.to_datetime(historical_df['Timestamp IST'], format='%d-%m-%Y %H:%M').dt.date\n",
    "fear_greed_df['date'] = pd.to_datetime(fear_greed_df['date']).dt.date\n",
    "\n",
    "# Merge data\n",
    "merged_df = pd.merge(historical_df, fear_greed_df[['date', 'classification']], on='date', how='left')\n"
   ]
  },
  {
   "cell_type": "markdown",
   "id": "b8ca35d1",
   "metadata": {},
   "source": [
    "## 📈 Summary Statistics by Sentiment"
   ]
  },
  {
   "cell_type": "code",
   "execution_count": null,
   "id": "a526ff67",
   "metadata": {},
   "outputs": [],
   "source": [
    "\n",
    "merged_df.groupby('classification').agg({\n",
    "    'Closed PnL': ['mean', 'median'],\n",
    "    'Size USD': 'mean',\n",
    "    'Execution Price': 'mean'\n",
    "}).round(2)\n"
   ]
  },
  {
   "cell_type": "markdown",
   "id": "b119d3a7",
   "metadata": {},
   "source": [
    "## 🔍 Average Profit by Sentiment"
   ]
  },
  {
   "cell_type": "code",
   "execution_count": null,
   "id": "4e866643",
   "metadata": {},
   "outputs": [],
   "source": [
    "\n",
    "plt.figure(figsize=(10, 6))\n",
    "avg_pnl_by_sentiment = merged_df.groupby('classification')['Closed PnL'].mean().sort_values()\n",
    "sns.barplot(x=avg_pnl_by_sentiment.index, y=avg_pnl_by_sentiment.values, palette=\"viridis\")\n",
    "plt.title(\"Average Closed PnL by Market Sentiment\")\n",
    "plt.ylabel(\"Average Closed PnL ($)\")\n",
    "plt.xlabel(\"Sentiment Classification\")\n",
    "plt.xticks(rotation=45)\n",
    "plt.tight_layout()\n",
    "plt.show()\n"
   ]
  },
  {
   "cell_type": "markdown",
   "id": "fb45a2a4",
   "metadata": {},
   "source": [
    "## 📦 PnL Distribution by Sentiment"
   ]
  },
  {
   "cell_type": "code",
   "execution_count": null,
   "id": "55b8be94",
   "metadata": {},
   "outputs": [],
   "source": [
    "\n",
    "plt.figure(figsize=(12, 6))\n",
    "sns.boxplot(data=merged_df, x='classification', y='Closed PnL', showfliers=False, palette='Set2')\n",
    "plt.title(\"Closed PnL Distribution by Sentiment\")\n",
    "plt.ylabel(\"Closed PnL ($)\")\n",
    "plt.xlabel(\"Sentiment Classification\")\n",
    "plt.xticks(rotation=45)\n",
    "plt.tight_layout()\n",
    "plt.show()\n"
   ]
  },
  {
   "cell_type": "markdown",
   "id": "f08566ba",
   "metadata": {},
   "source": [
    "## 💼 Top Traders and Their Performance by Sentiment"
   ]
  },
  {
   "cell_type": "code",
   "execution_count": null,
   "id": "921ae200",
   "metadata": {},
   "outputs": [],
   "source": [
    "\n",
    "top_traders = merged_df.groupby(\"Account\")[\"Closed PnL\"].sum().sort_values(ascending=False).head(10).index\n",
    "top_trader_df = merged_df[merged_df[\"Account\"].isin(top_traders)]\n",
    "\n",
    "plt.figure(figsize=(14, 7))\n",
    "sns.boxplot(data=top_trader_df, x=\"classification\", y=\"Closed PnL\", hue=\"Account\", showfliers=False)\n",
    "plt.title(\"Top 10 Traders' PnL Distribution by Sentiment\")\n",
    "plt.xlabel(\"Market Sentiment\")\n",
    "plt.ylabel(\"Closed PnL ($)\")\n",
    "plt.xticks(rotation=45)\n",
    "plt.legend(loc=\"upper right\", bbox_to_anchor=(1.15, 1))\n",
    "plt.tight_layout()\n",
    "plt.show()\n"
   ]
  }
 ],
 "metadata": {},
 "nbformat": 4,
 "nbformat_minor": 5
}
